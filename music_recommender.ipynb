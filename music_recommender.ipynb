{
 "cells": [
  {
   "cell_type": "code",
   "execution_count": null,
   "id": "2c4f1c86",
   "metadata": {},
   "outputs": [],
   "source": [
    "import numpy as np\n",
    "import pandas as pd\n",
    "\n",
    "import seaborn as sns\n",
    "import matplotlib.pyplot as plt\n",
    "\n",
    "from sklearn.neighbors import NearestNeighbors\n",
    "from sklearn.ensemble import IsolationForest"
   ]
  },
  {
   "cell_type": "markdown",
   "id": "aaa7874e",
   "metadata": {},
   "source": [
    "# Problem Proposal:\n",
    "- The technology is here to make lives easier and more convenient. Listening to music, watching movies and other activities became really popular over the last century. Nowadays it is hard to know what to watch or listen to with the applications like youtube, spotify since there are so many songs available in every kind. However, using data science techniques and algorithms, we can create suggestions about what the user might like depending on what they previously listened to, or liked. \n"
   ]
  },
  {
   "cell_type": "markdown",
   "id": "9f6be3df",
   "metadata": {},
   "source": [
    "# Loading Data"
   ]
  },
  {
   "cell_type": "code",
   "execution_count": 36,
   "id": "0566aa42",
   "metadata": {},
   "outputs": [
    {
     "name": "stdout",
     "output_type": "stream",
     "text": [
      "Index(['valence', 'year', 'acousticness', 'artists', 'danceability',\n",
      "       'duration_ms', 'energy', 'explicit', 'id', 'instrumentalness', 'key',\n",
      "       'liveness', 'loudness', 'mode', 'name', 'popularity', 'release_date',\n",
      "       'speechiness', 'tempo'],\n",
      "      dtype='object')\n",
      "(170653, 19)\n"
     ]
    },
    {
     "data": {
      "text/html": [
       "<div>\n",
       "<style scoped>\n",
       "    .dataframe tbody tr th:only-of-type {\n",
       "        vertical-align: middle;\n",
       "    }\n",
       "\n",
       "    .dataframe tbody tr th {\n",
       "        vertical-align: top;\n",
       "    }\n",
       "\n",
       "    .dataframe thead th {\n",
       "        text-align: right;\n",
       "    }\n",
       "</style>\n",
       "<table border=\"1\" class=\"dataframe\">\n",
       "  <thead>\n",
       "    <tr style=\"text-align: right;\">\n",
       "      <th></th>\n",
       "      <th>valence</th>\n",
       "      <th>year</th>\n",
       "      <th>acousticness</th>\n",
       "      <th>artists</th>\n",
       "      <th>danceability</th>\n",
       "      <th>duration_ms</th>\n",
       "      <th>energy</th>\n",
       "      <th>explicit</th>\n",
       "      <th>id</th>\n",
       "      <th>instrumentalness</th>\n",
       "      <th>key</th>\n",
       "      <th>liveness</th>\n",
       "      <th>loudness</th>\n",
       "      <th>mode</th>\n",
       "      <th>name</th>\n",
       "      <th>popularity</th>\n",
       "      <th>release_date</th>\n",
       "      <th>speechiness</th>\n",
       "      <th>tempo</th>\n",
       "    </tr>\n",
       "  </thead>\n",
       "  <tbody>\n",
       "    <tr>\n",
       "      <td>0</td>\n",
       "      <td>0.0594</td>\n",
       "      <td>1921</td>\n",
       "      <td>0.982</td>\n",
       "      <td>['Sergei Rachmaninoff', 'James Levine', 'Berli...</td>\n",
       "      <td>0.279</td>\n",
       "      <td>831667</td>\n",
       "      <td>0.211</td>\n",
       "      <td>0</td>\n",
       "      <td>4BJqT0PrAfrxzMOxytFOIz</td>\n",
       "      <td>0.878000</td>\n",
       "      <td>10</td>\n",
       "      <td>0.665</td>\n",
       "      <td>-20.096</td>\n",
       "      <td>1</td>\n",
       "      <td>Piano Concerto No. 3 in D Minor, Op. 30: III. ...</td>\n",
       "      <td>4</td>\n",
       "      <td>1921</td>\n",
       "      <td>0.0366</td>\n",
       "      <td>80.954</td>\n",
       "    </tr>\n",
       "    <tr>\n",
       "      <td>1</td>\n",
       "      <td>0.9630</td>\n",
       "      <td>1921</td>\n",
       "      <td>0.732</td>\n",
       "      <td>['Dennis Day']</td>\n",
       "      <td>0.819</td>\n",
       "      <td>180533</td>\n",
       "      <td>0.341</td>\n",
       "      <td>0</td>\n",
       "      <td>7xPhfUan2yNtyFG0cUWkt8</td>\n",
       "      <td>0.000000</td>\n",
       "      <td>7</td>\n",
       "      <td>0.160</td>\n",
       "      <td>-12.441</td>\n",
       "      <td>1</td>\n",
       "      <td>Clancy Lowered the Boom</td>\n",
       "      <td>5</td>\n",
       "      <td>1921</td>\n",
       "      <td>0.4150</td>\n",
       "      <td>60.936</td>\n",
       "    </tr>\n",
       "    <tr>\n",
       "      <td>2</td>\n",
       "      <td>0.0394</td>\n",
       "      <td>1921</td>\n",
       "      <td>0.961</td>\n",
       "      <td>['KHP Kridhamardawa Karaton Ngayogyakarta Hadi...</td>\n",
       "      <td>0.328</td>\n",
       "      <td>500062</td>\n",
       "      <td>0.166</td>\n",
       "      <td>0</td>\n",
       "      <td>1o6I8BglA6ylDMrIELygv1</td>\n",
       "      <td>0.913000</td>\n",
       "      <td>3</td>\n",
       "      <td>0.101</td>\n",
       "      <td>-14.850</td>\n",
       "      <td>1</td>\n",
       "      <td>Gati Bali</td>\n",
       "      <td>5</td>\n",
       "      <td>1921</td>\n",
       "      <td>0.0339</td>\n",
       "      <td>110.339</td>\n",
       "    </tr>\n",
       "    <tr>\n",
       "      <td>3</td>\n",
       "      <td>0.1650</td>\n",
       "      <td>1921</td>\n",
       "      <td>0.967</td>\n",
       "      <td>['Frank Parker']</td>\n",
       "      <td>0.275</td>\n",
       "      <td>210000</td>\n",
       "      <td>0.309</td>\n",
       "      <td>0</td>\n",
       "      <td>3ftBPsC5vPBKxYSee08FDH</td>\n",
       "      <td>0.000028</td>\n",
       "      <td>5</td>\n",
       "      <td>0.381</td>\n",
       "      <td>-9.316</td>\n",
       "      <td>1</td>\n",
       "      <td>Danny Boy</td>\n",
       "      <td>3</td>\n",
       "      <td>1921</td>\n",
       "      <td>0.0354</td>\n",
       "      <td>100.109</td>\n",
       "    </tr>\n",
       "    <tr>\n",
       "      <td>4</td>\n",
       "      <td>0.2530</td>\n",
       "      <td>1921</td>\n",
       "      <td>0.957</td>\n",
       "      <td>['Phil Regan']</td>\n",
       "      <td>0.418</td>\n",
       "      <td>166693</td>\n",
       "      <td>0.193</td>\n",
       "      <td>0</td>\n",
       "      <td>4d6HGyGT8e121BsdKmw9v6</td>\n",
       "      <td>0.000002</td>\n",
       "      <td>3</td>\n",
       "      <td>0.229</td>\n",
       "      <td>-10.096</td>\n",
       "      <td>1</td>\n",
       "      <td>When Irish Eyes Are Smiling</td>\n",
       "      <td>2</td>\n",
       "      <td>1921</td>\n",
       "      <td>0.0380</td>\n",
       "      <td>101.665</td>\n",
       "    </tr>\n",
       "  </tbody>\n",
       "</table>\n",
       "</div>"
      ],
      "text/plain": [
       "   valence  year  acousticness  \\\n",
       "0   0.0594  1921         0.982   \n",
       "1   0.9630  1921         0.732   \n",
       "2   0.0394  1921         0.961   \n",
       "3   0.1650  1921         0.967   \n",
       "4   0.2530  1921         0.957   \n",
       "\n",
       "                                             artists  danceability  \\\n",
       "0  ['Sergei Rachmaninoff', 'James Levine', 'Berli...         0.279   \n",
       "1                                     ['Dennis Day']         0.819   \n",
       "2  ['KHP Kridhamardawa Karaton Ngayogyakarta Hadi...         0.328   \n",
       "3                                   ['Frank Parker']         0.275   \n",
       "4                                     ['Phil Regan']         0.418   \n",
       "\n",
       "   duration_ms  energy  explicit                      id  instrumentalness  \\\n",
       "0       831667   0.211         0  4BJqT0PrAfrxzMOxytFOIz          0.878000   \n",
       "1       180533   0.341         0  7xPhfUan2yNtyFG0cUWkt8          0.000000   \n",
       "2       500062   0.166         0  1o6I8BglA6ylDMrIELygv1          0.913000   \n",
       "3       210000   0.309         0  3ftBPsC5vPBKxYSee08FDH          0.000028   \n",
       "4       166693   0.193         0  4d6HGyGT8e121BsdKmw9v6          0.000002   \n",
       "\n",
       "   key  liveness  loudness  mode  \\\n",
       "0   10     0.665   -20.096     1   \n",
       "1    7     0.160   -12.441     1   \n",
       "2    3     0.101   -14.850     1   \n",
       "3    5     0.381    -9.316     1   \n",
       "4    3     0.229   -10.096     1   \n",
       "\n",
       "                                                name  popularity release_date  \\\n",
       "0  Piano Concerto No. 3 in D Minor, Op. 30: III. ...           4         1921   \n",
       "1                            Clancy Lowered the Boom           5         1921   \n",
       "2                                          Gati Bali           5         1921   \n",
       "3                                          Danny Boy           3         1921   \n",
       "4                        When Irish Eyes Are Smiling           2         1921   \n",
       "\n",
       "   speechiness    tempo  \n",
       "0       0.0366   80.954  \n",
       "1       0.4150   60.936  \n",
       "2       0.0339  110.339  \n",
       "3       0.0354  100.109  \n",
       "4       0.0380  101.665  "
      ]
     },
     "execution_count": 36,
     "metadata": {},
     "output_type": "execute_result"
    }
   ],
   "source": [
    "df=pd.read_csv('data/spotify_song_data.csv', encoding='UTF-8')\n",
    "print(df.columns)\n",
    "print(df.shape) \n",
    "df.head()"
   ]
  },
  {
   "cell_type": "markdown",
   "id": "70d0ffc3",
   "metadata": {},
   "source": [
    "# Exploratory Analysis"
   ]
  },
  {
   "cell_type": "code",
   "execution_count": 122,
   "id": "f7073485",
   "metadata": {},
   "outputs": [
    {
     "name": "stdout",
     "output_type": "stream",
     "text": [
      "AVERAGES AND STANDARD DEVIATIONS\n",
      "--------------------------------\n",
      "valence --- avg: 0.5285872111424939 std: 0.26317069291669615\n",
      "acousticness --- avg: 0.5021147637067032 std: 0.37603062341675914\n",
      "danceability --- avg: 0.5373955347986852 std: 0.17613721955546152\n",
      "duration_ms --- avg: 230948.3106655025 std: 126118.04515039867\n",
      "energy --- avg: 0.4823888351127728 std: 0.26764492039084176\n",
      "explicit --- avg: 0.08457513199299163 std: 0.2782484124687141\n",
      "instrumentalness --- avg: 0.16700958082940237 std: 0.31347375541926153\n",
      "key --- avg: 5.199844128143074 std: 3.5150836071706766\n",
      "liveness --- avg: 0.20583865545873795 std: 0.17480414909425995\n",
      "loudness --- avg: -11.467990038264784 std: 5.697926217815683\n",
      "mode --- avg: 0.7069023105365859 std: 0.45518285764582805\n",
      "popularity --- avg: 31.431794342906365 std: 21.826551188905174\n",
      "speechiness --- avg: 0.09839326235108671 std: 0.1627395956549461\n",
      "tempo --- avg: 116.86158961752797 std: 30.708443066691036\n"
     ]
    }
   ],
   "source": [
    "# analyze various metrics across multiple features\n",
    "features = ['valence', 'acousticness', 'danceability',\n",
    "       'duration_ms', 'energy', 'explicit', 'instrumentalness', 'key',\n",
    "       'liveness', 'loudness', 'mode', 'popularity',\n",
    "       'speechiness', 'tempo']\n",
    "\n",
    "# averages and stds\n",
    "print(\"AVERAGES AND STANDARD DEVIATIONS\")\n",
    "print(\"--------------------------------\")\n",
    "averages = []\n",
    "stds = []\n",
    "for feature in features:\n",
    "    averages.append(np.mean(list(df[feature])))\n",
    "    stds.append(np.std(list(df[feature])))\n",
    "    print(feature, \"--- avg:\", averages[-1], \"std:\", stds[-1]) "
   ]
  },
  {
   "cell_type": "code",
   "execution_count": 123,
   "id": "71429142",
   "metadata": {},
   "outputs": [
    {
     "name": "stdout",
     "output_type": "stream",
     "text": [
      "Number of Unique Artists: 34088\n",
      "There are 170653 songs so on average each artist has 5.01 songs in the dataset\n",
      "There are 14433 explicit songs in the dataset, 8.0 percent of songs are explicit\n"
     ]
    }
   ],
   "source": [
    "# count number of unique artists \n",
    "artists = list(df['artists'])\n",
    "print(\"Number of Unique Artists:\", len(set(artists)))\n",
    "print(\"There are\", len(artists), \"songs so on average each artist has\", round(len(artists)/len(set(artists)), 2),\n",
    "      \"songs in the dataset\")\n",
    "\n",
    "# count number of explicit songs\n",
    "explicit = list(df['explicit'])\n",
    "print(\"There are\", explicit.count(1), \"explicit songs in the dataset,\", \n",
    "      round(explicit.count(1)/len(explicit), 2)*100, \"percent of songs are explicit\")"
   ]
  },
  {
   "cell_type": "code",
   "execution_count": 124,
   "id": "07eedeaa",
   "metadata": {},
   "outputs": [
    {
     "name": "stdout",
     "output_type": "stream",
     "text": [
      "There are 27892 songs rated with 0 popularity, 16.0 percent of songs have 0 popularity\n"
     ]
    },
    {
     "data": {
      "text/plain": [
       "Text(0.5, 0, 'Popularity')"
      ]
     },
     "execution_count": 124,
     "metadata": {},
     "output_type": "execute_result"
    },
    {
     "data": {
      "image/png": "[encoded data removed]",
      "text/plain": [
       "<Figure size 792x576 with 1 Axes>"
      ]
     },
     "metadata": {},
     "output_type": "display_data"
    }
   ],
   "source": [
    "# count song popularity\n",
    "popularity = list(df[\"popularity\"])\n",
    "popularity = list(np.sort(popularity))\n",
    "print(\"There are\", popularity.count(0), \"songs rated with 0 popularity,\",\n",
    "      round(popularity.count(0)/len(popularity),2)*100, \"percent of songs have 0 popularity\")\n",
    "try:\n",
    "    while True:\n",
    "        popularity.remove(0) # remove 0s for better visualization - will analyze 0s later\n",
    "except ValueError:\n",
    "    pass\n",
    "\n",
    "sns.set(rc={'figure.figsize':(11, 8)})\n",
    "p = sns.countplot(popularity)\n",
    "p.set_xlabel(\"Popularity\")"
   ]
  },
  {
   "cell_type": "code",
   "execution_count": 125,
   "id": "0d9356f6",
   "metadata": {},
   "outputs": [
    {
     "data": {
      "text/plain": [
       "<matplotlib.axes._subplots.AxesSubplot at 0x7ffabbac3dd0>"
      ]
     },
     "execution_count": 125,
     "metadata": {},
     "output_type": "execute_result"
    },
    {
     "data": {
      "image/png": "[encoded data removed]",
      "text/plain": [
       "<Figure size 792x576 with 1 Axes>"
      ]
     },
     "metadata": {},
     "output_type": "display_data"
    }
   ],
   "source": [
    "# count number of songs from different decades\n",
    "years = list(df[\"year\"])\n",
    "for index, year in enumerate(years):\n",
    "    years[index] = str(int(year/10) * 10) + 's'\n",
    "\n",
    "decade = years.copy()\n",
    "df[\"decade\"] = decade\n",
    "\n",
    "sns.set(rc={'figure.figsize':(11, 8)})\n",
    "sns.countplot(decade)"
   ]
  },
  {
   "cell_type": "code",
   "execution_count": 145,
   "id": "421bdae8",
   "metadata": {},
   "outputs": [
    {
     "name": "stdout",
     "output_type": "stream",
     "text": [
      "PERCENT DIFFERENCES BETWEEN POPULARITY 0 AND WHOLE DATASET\n",
      "--------------------------------\n",
      "valence difference with dataset: -3.33%\n",
      "acousticness difference with dataset: 69.32%\n",
      "danceability difference with dataset: -6.32%\n",
      "duration_ms difference with dataset: -7.16%\n",
      "energy difference with dataset: -43.68%\n",
      "explicit difference with dataset: 4.11%\n",
      "instrumentalness difference with dataset: 108.27%\n",
      "key difference with dataset: 0.01%\n",
      "liveness difference with dataset: 8.48%\n",
      "loudness difference with dataset: 32.3%\n",
      "mode difference with dataset: -1.57%\n",
      "popularity difference with dataset: -100.0%\n",
      "speechiness difference with dataset: 95.17%\n",
      "tempo difference with dataset: -6.98%\n"
     ]
    }
   ],
   "source": [
    "# analyze songs with 0 popularity\n",
    "zero_df = df[df['popularity'] == 0]\n",
    "# averages and stds\n",
    "print(\"PERCENT DIFFERENCES BETWEEN POPULARITY 0 AND WHOLE DATASET\")\n",
    "print(\"--------------------------------\")\n",
    "averages_0 = []\n",
    "std_0 = []\n",
    "# compare averages with entire dataset averages\n",
    "for index, feature in enumerate(features):\n",
    "    averages_0.append(np.mean(list(zero_df[feature])))\n",
    "    std_0.append(np.std(list(zero_df[feature])))\n",
    "    val = round(((averages_0[index]-averages[index])/averages[index])*100, 2)\n",
    "    print(feature, \"difference with dataset:\", str(val) + \"%\")"
   ]
  },
  {
   "cell_type": "markdown",
   "id": "f42e335c",
   "metadata": {},
   "source": [
    "Compared to the entire dataset the songs with 0 popularity have a much higher averages for acousticness, instrumentalness, and speechiness. Additionally, they have a much lower average for energy."
   ]
  },
  {
   "cell_type": "code",
   "execution_count": 171,
   "id": "82675642",
   "metadata": {},
   "outputs": [
    {
     "data": {
      "text/plain": [
       "Text(0.5, 1.0, 'Average Rating per Decade')"
      ]
     },
     "execution_count": 171,
     "metadata": {},
     "output_type": "execute_result"
    },
    {
     "data": {
      "image/png": "[encoded data removed]",
      "text/plain": [
       "<Figure size 792x576 with 1 Axes>"
      ]
     },
     "metadata": {},
     "output_type": "display_data"
    }
   ],
   "source": [
    "# analyze song popularity across the decades\n",
    "decades = df[\"decade\"]\n",
    "popularity = df[\"popularity\"]\n",
    "decade_dict = {data: [] for data in set(decades)}\n",
    "\n",
    "for index, decade in enumerate(decades):\n",
    "    decade_dict[decade].append(popularity[index])\n",
    "\n",
    "avg_dict = {data: np.mean(decade_dict[data]) for data in decade_dict}\n",
    "avg_dict = dict(sorted(avg_dict.items()))\n",
    "\n",
    "p = sns.barplot(x=list(avg_dict.keys()),y=list(avg_dict.values()))\n",
    "p.set_xlabel(\"Decade\")\n",
    "p.set_ylabel(\"Average Rating\")\n",
    "p.set_title(\"Average Rating per Decade\")"
   ]
  },
  {
   "cell_type": "markdown",
   "id": "4c1d2c84",
   "metadata": {},
   "source": [
    "## Future Work and Above Data Analysis\n",
    "- The future work will include the implementetion of K-nn's with nearest-neighbor algorithm. By implementing that we are aming to recomend people the type of music they might like. The work above is a overall analysis of the data from the 'spotify_song_data.csv'. This preliminary evaluation of the data will helps us what to predict or will give us a foundation to sanity check with what we recommend to people after k-nn nearest-neighbor implementation.  "
   ]
  },
  {
   "cell_type": "code",
   "execution_count": null,
   "id": "f804e9d2",
   "metadata": {},
   "outputs": [],
   "source": []
  }
 ],
 "metadata": {
  "kernelspec": {
   "display_name": "Python 3 (ipykernel)",
   "language": "python",
   "name": "python3"
  },
  "language_info": {
   "codemirror_mode": {
    "name": "ipython",
    "version": 3
   },
   "file_extension": ".py",
   "mimetype": "text/x-python",
   "name": "python",
   "nbconvert_exporter": "python",
   "pygments_lexer": "ipython3",
   "version": "3.10.4"
  }
 },
 "nbformat": 4,
 "nbformat_minor": 5
}
