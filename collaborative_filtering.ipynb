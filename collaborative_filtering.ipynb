{
 "cells": [
  {
   "cell_type": "code",
   "execution_count": 55,
   "id": "1692cfb9-b35e-4107-a51a-c5607c608f05",
   "metadata": {},
   "outputs": [],
   "source": [
    "import numpy as np\n",
    "import pandas as pd\n",
    "\n",
    "from numpy import linalg\n",
    "\n",
    "import seaborn as sns\n",
    "import matplotlib.pyplot as plt"
   ]
  },
  {
   "cell_type": "markdown",
   "id": "a7d5cf89-174b-486f-b690-853054f705b4",
   "metadata": {},
   "source": [
    "# Loading Data"
   ]
  },
  {
   "cell_type": "code",
   "execution_count": 2,
   "id": "a206b793-7ec4-415e-b5f5-82726a4355ed",
   "metadata": {},
   "outputs": [],
   "source": [
    "songs_df = pd.read_csv(\"data/song_data.csv\")\n",
    "users_df = pd.read_csv(\"data/10000.txt\", delim_whitespace=True)"
   ]
  },
  {
   "cell_type": "code",
   "execution_count": 3,
   "id": "cda09c47-bebc-4ad8-8bb7-7e15a652a9ce",
   "metadata": {},
   "outputs": [
    {
     "data": {
      "text/html": [
       "<div>\n",
       "<style scoped>\n",
       "    .dataframe tbody tr th:only-of-type {\n",
       "        vertical-align: middle;\n",
       "    }\n",
       "\n",
       "    .dataframe tbody tr th {\n",
       "        vertical-align: top;\n",
       "    }\n",
       "\n",
       "    .dataframe thead th {\n",
       "        text-align: right;\n",
       "    }\n",
       "</style>\n",
       "<table border=\"1\" class=\"dataframe\">\n",
       "  <thead>\n",
       "    <tr style=\"text-align: right;\">\n",
       "      <th></th>\n",
       "      <th>song_id</th>\n",
       "      <th>title</th>\n",
       "      <th>release</th>\n",
       "      <th>artist_name</th>\n",
       "      <th>year</th>\n",
       "    </tr>\n",
       "  </thead>\n",
       "  <tbody>\n",
       "    <tr>\n",
       "      <th>0</th>\n",
       "      <td>SOQMMHC12AB0180CB8</td>\n",
       "      <td>Silent Night</td>\n",
       "      <td>Monster Ballads X-Mas</td>\n",
       "      <td>Faster Pussy cat</td>\n",
       "      <td>2003</td>\n",
       "    </tr>\n",
       "    <tr>\n",
       "      <th>1</th>\n",
       "      <td>SOVFVAK12A8C1350D9</td>\n",
       "      <td>Tanssi vaan</td>\n",
       "      <td>Karkuteillä</td>\n",
       "      <td>Karkkiautomaatti</td>\n",
       "      <td>1995</td>\n",
       "    </tr>\n",
       "    <tr>\n",
       "      <th>2</th>\n",
       "      <td>SOGTUKN12AB017F4F1</td>\n",
       "      <td>No One Could Ever</td>\n",
       "      <td>Butter</td>\n",
       "      <td>Hudson Mohawke</td>\n",
       "      <td>2006</td>\n",
       "    </tr>\n",
       "    <tr>\n",
       "      <th>3</th>\n",
       "      <td>SOBNYVR12A8C13558C</td>\n",
       "      <td>Si Vos Querés</td>\n",
       "      <td>De Culo</td>\n",
       "      <td>Yerba Brava</td>\n",
       "      <td>2003</td>\n",
       "    </tr>\n",
       "    <tr>\n",
       "      <th>4</th>\n",
       "      <td>SOHSBXH12A8C13B0DF</td>\n",
       "      <td>Tangle Of Aspens</td>\n",
       "      <td>Rene Ablaze Presents Winter Sessions</td>\n",
       "      <td>Der Mystic</td>\n",
       "      <td>0</td>\n",
       "    </tr>\n",
       "  </tbody>\n",
       "</table>\n",
       "</div>"
      ],
      "text/plain": [
       "              song_id              title  \\\n",
       "0  SOQMMHC12AB0180CB8       Silent Night   \n",
       "1  SOVFVAK12A8C1350D9        Tanssi vaan   \n",
       "2  SOGTUKN12AB017F4F1  No One Could Ever   \n",
       "3  SOBNYVR12A8C13558C      Si Vos Querés   \n",
       "4  SOHSBXH12A8C13B0DF   Tangle Of Aspens   \n",
       "\n",
       "                                release       artist_name  year  \n",
       "0                 Monster Ballads X-Mas  Faster Pussy cat  2003  \n",
       "1                           Karkuteillä  Karkkiautomaatti  1995  \n",
       "2                                Butter    Hudson Mohawke  2006  \n",
       "3                               De Culo       Yerba Brava  2003  \n",
       "4  Rene Ablaze Presents Winter Sessions        Der Mystic     0  "
      ]
     },
     "execution_count": 3,
     "metadata": {},
     "output_type": "execute_result"
    }
   ],
   "source": [
    "songs_df.head()"
   ]
  },
  {
   "cell_type": "code",
   "execution_count": 4,
   "id": "a65bf06d-f515-4a5f-9b4e-08a38cbdccaf",
   "metadata": {},
   "outputs": [
    {
     "data": {
      "text/html": [
       "<div>\n",
       "<style scoped>\n",
       "    .dataframe tbody tr th:only-of-type {\n",
       "        vertical-align: middle;\n",
       "    }\n",
       "\n",
       "    .dataframe tbody tr th {\n",
       "        vertical-align: top;\n",
       "    }\n",
       "\n",
       "    .dataframe thead th {\n",
       "        text-align: right;\n",
       "    }\n",
       "</style>\n",
       "<table border=\"1\" class=\"dataframe\">\n",
       "  <thead>\n",
       "    <tr style=\"text-align: right;\">\n",
       "      <th></th>\n",
       "      <th>user_id</th>\n",
       "      <th>song_id</th>\n",
       "      <th>num_listens</th>\n",
       "    </tr>\n",
       "  </thead>\n",
       "  <tbody>\n",
       "    <tr>\n",
       "      <th>0</th>\n",
       "      <td>b80344d063b5ccb3212f76538f3d9e43d87dca9e</td>\n",
       "      <td>SOAKIMP12A8C130995</td>\n",
       "      <td>1</td>\n",
       "    </tr>\n",
       "    <tr>\n",
       "      <th>1</th>\n",
       "      <td>b80344d063b5ccb3212f76538f3d9e43d87dca9e</td>\n",
       "      <td>SOBBMDR12A8C13253B</td>\n",
       "      <td>2</td>\n",
       "    </tr>\n",
       "    <tr>\n",
       "      <th>2</th>\n",
       "      <td>b80344d063b5ccb3212f76538f3d9e43d87dca9e</td>\n",
       "      <td>SOBXHDL12A81C204C0</td>\n",
       "      <td>1</td>\n",
       "    </tr>\n",
       "    <tr>\n",
       "      <th>3</th>\n",
       "      <td>b80344d063b5ccb3212f76538f3d9e43d87dca9e</td>\n",
       "      <td>SOBYHAJ12A6701BF1D</td>\n",
       "      <td>1</td>\n",
       "    </tr>\n",
       "    <tr>\n",
       "      <th>4</th>\n",
       "      <td>b80344d063b5ccb3212f76538f3d9e43d87dca9e</td>\n",
       "      <td>SODACBL12A8C13C273</td>\n",
       "      <td>1</td>\n",
       "    </tr>\n",
       "  </tbody>\n",
       "</table>\n",
       "</div>"
      ],
      "text/plain": [
       "                                    user_id             song_id  num_listens\n",
       "0  b80344d063b5ccb3212f76538f3d9e43d87dca9e  SOAKIMP12A8C130995            1\n",
       "1  b80344d063b5ccb3212f76538f3d9e43d87dca9e  SOBBMDR12A8C13253B            2\n",
       "2  b80344d063b5ccb3212f76538f3d9e43d87dca9e  SOBXHDL12A81C204C0            1\n",
       "3  b80344d063b5ccb3212f76538f3d9e43d87dca9e  SOBYHAJ12A6701BF1D            1\n",
       "4  b80344d063b5ccb3212f76538f3d9e43d87dca9e  SODACBL12A8C13C273            1"
      ]
     },
     "execution_count": 4,
     "metadata": {},
     "output_type": "execute_result"
    }
   ],
   "source": [
    "users_df.head()"
   ]
  },
  {
   "cell_type": "markdown",
   "id": "8d9c4326-0d05-48f9-8b78-1cff1f9e01e2",
   "metadata": {},
   "source": [
    "# Exploratory Analysis"
   ]
  },
  {
   "cell_type": "code",
   "execution_count": 21,
   "id": "da95824d-64d7-41f1-b8cb-352c147f7a1c",
   "metadata": {},
   "outputs": [
    {
     "name": "stdout",
     "output_type": "stream",
     "text": [
      "76353 unique users\n",
      "10000 unique songs\n",
      "6090969 total song listens\n"
     ]
    }
   ],
   "source": [
    "user_id = list(users_df['user_id'])\n",
    "song_id = list(users_df['song_id'])\n",
    "unique_songs = list(set(song_id))\n",
    "num_listens = list(users_df['num_listens'])\n",
    "print(len(set(user_id)), \"unique users\")\n",
    "print(len(unique_songs), \"unique songs\")\n",
    "print(sum(num_listens), \"total song listens\")"
   ]
  },
  {
   "cell_type": "code",
   "execution_count": 6,
   "id": "260b8eeb-85d1-40ac-bb74-fc9052960fef",
   "metadata": {},
   "outputs": [
    {
     "name": "stdout",
     "output_type": "stream",
     "text": [
      "You're The One has been listened to 54136 times\n",
      "Undo has been listened to 49253 times\n",
      "Revelry has been listened to 41418 times\n",
      "Horn Concerto No. 4 in E flat K495: II. Romance (Andante cantabile) has been listened to 31153 times\n",
      "Sehr kosmisch has been listened to 31036 times\n",
      "Dog Days Are Over (Radio Edit) has been listened to 26663 times\n",
      "Secrets has been listened to 22100 times\n",
      "Canada has been listened to 21019 times\n",
      "Invalid has been listened to 19645 times\n",
      "Ain't Misbehavin has been listened to 18309 times\n"
     ]
    }
   ],
   "source": [
    "# check top 10 songs that are most listened to \n",
    "most_listened = users_df[['song_id', 'num_listens']].groupby('song_id').sum().sort_values('num_listens', ascending=False).head(10)\n",
    "top_songs = list(most_listened.index)\n",
    "listen_count = list(most_listened['num_listens'])\n",
    "for i in range(0,10):\n",
    "    song_name = songs_df.loc[songs_df['song_id'] == top_songs[i]]['title']\n",
    "    print(list(song_name)[0], \"has been listened to\", listen_count[i], \"times\")"
   ]
  },
  {
   "cell_type": "code",
   "execution_count": 7,
   "id": "76a2d777-5502-4664-9d0d-804558c4b12b",
   "metadata": {},
   "outputs": [
    {
     "name": "stdout",
     "output_type": "stream",
     "text": [
      "4be305e02f4e72dad1b8ac78e630403543bab994 has 4426 song listens\n",
      "6d625c6557df84b60d90426c0116138b617b9449 has 3482 song listens\n",
      "d13609d62db6df876d3cc388225478618bb7b912 has 2686 song listens\n",
      "0b19fe0fad7ca85693846f7dad047c449784647e has 2679 song listens\n",
      "283882c3d18ff2ad0e17124002ec02b847d06e9a has 2306 song listens\n",
      "083a2a59603a605275107c00812a811526c2a0af has 2142 song listens\n",
      "6a944bfe30ae8d6b873139e8305ae131f1607d5f has 2062 song listens\n",
      "5ea608df0357ec4fda191cb9316fe8e6e65e3777 has 2032 song listens\n",
      "9c859962257112ad523f1d3c121d35191daa6d2b has 2032 song listens\n",
      "2231cb435771a1a621ec44e95cdd28b81fad3288 has 2019 song listens\n"
     ]
    }
   ],
   "source": [
    "# check top 10 users with most listens\n",
    "most_listened_users = users_df[['user_id', 'num_listens']].groupby('user_id').sum().sort_values('num_listens', ascending=False).head(10)\n",
    "top_users = list(most_listened_users.index)\n",
    "listen_count = list(most_listened_users['num_listens'])\n",
    "for i in range(0,10):\n",
    "    print(top_users[i], \"has\", listen_count[i], \"song listens\")"
   ]
  },
  {
   "cell_type": "code",
   "execution_count": 8,
   "id": "a6d61be4-5c06-47ed-9d23-89ee754c8df8",
   "metadata": {},
   "outputs": [
    {
     "name": "stdout",
     "output_type": "stream",
     "text": [
      "A single user has listened to Starshine 2213 times\n"
     ]
    }
   ],
   "source": [
    "# check songs with most listens per individual user\n",
    "sorted_listens = np.sort(list(users_df['num_listens']))\n",
    "most_listened = sorted_listens[-1]\n",
    "most_listened_id = list(users_df.loc[users_df['num_listens'] == most_listened]['song_id'])[0]\n",
    "most_listened_name = list(songs_df.loc[songs_df['song_id'] == most_listened_id]['title'])[0]\n",
    "print(\"A single user has listened to\", most_listened_name, most_listened, \"times\")"
   ]
  },
  {
   "cell_type": "code",
   "execution_count": 9,
   "id": "e25fccc1-76ab-432f-a96c-f2567630ac0f",
   "metadata": {},
   "outputs": [],
   "source": [
    "# function to return song name and author from an input id\n",
    "def get_song(song_id):\n",
    "    row = songs_df.loc[songs_df['song_id'] == song_id]\n",
    "    row = str(list(row['title'] + \" by \" + row['artist_name'])[0])\n",
    "    return row"
   ]
  },
  {
   "cell_type": "markdown",
   "id": "4f93164a-516f-42bc-bc34-d8a3d3968207",
   "metadata": {},
   "source": [
    "# Collaborative Filtering"
   ]
  },
  {
   "cell_type": "code",
   "execution_count": 107,
   "id": "c461c072-3b64-4243-93d7-310e05bf13e8",
   "metadata": {},
   "outputs": [],
   "source": [
    "# function to return a listening history dictionary based on the number of users passed into it - takes ~2hrs for full dataset so will be working with partitions\n",
    "def get_listening_history(num_users):\n",
    "    listening_history = {}\n",
    "    unique_users = list(set(user_id))\n",
    "    for i in range(0, num_users):\n",
    "        user = unique_users[i]\n",
    "        # get listening history for a single user\n",
    "        temp_df = users_df[users_df['user_id'] == user]\n",
    "        # zip lists into a tuple and add to dictionary\n",
    "        listening_history[user] = list(zip(list(temp_df['song_id']), list(temp_df['num_listens'])))\n",
    "    return listening_history\n",
    "\n",
    "# function to print a listening history given the list of tuples\n",
    "def print_listening_history(user):\n",
    "    user = list(zip(*user))\n",
    "    songs = user[0]\n",
    "    count = user[1]\n",
    "    for i in range (0, len(songs)):\n",
    "        print(get_song(songs[i]), \"listened to\", count[i], \"time(s)\")"
   ]
  },
  {
   "cell_type": "code",
   "execution_count": 108,
   "id": "02e767a6-0972-41c8-973c-0751dc6cabb6",
   "metadata": {},
   "outputs": [],
   "source": [
    "# listening_history_10 = get_listening_history(10)\n",
    "listening_history_100 = get_listening_history(100)\n",
    "# listening_history_1000 = get_listening_history(1000)\n",
    "# listening_history_10000 = get_listening_history(10000)"
   ]
  },
  {
   "cell_type": "code",
   "execution_count": 114,
   "id": "b4d338e6-5b58-422a-b693-5801799bd4f3",
   "metadata": {},
   "outputs": [],
   "source": [
    "# function that accurately formats the data from two users and returns a similarity score - user1, user2 passed in as a list of tuples (song_id, listen_count)\n",
    "def get_similarity(user1, user2, normalize):\n",
    "    # convert user1, user2 lists\n",
    "    user1 = list(zip(*user1))\n",
    "    songs_user1 = user1[0]\n",
    "    count_user1 = user1[1]\n",
    "    user2 = list(zip(*user2))\n",
    "    songs_user2 = user2[0]\n",
    "    count_user2 = user2[1]\n",
    "\n",
    "    # get unique songs and convert each listening history to a list of integers - 0 if they haven't listened to the song\n",
    "    listening_history1 = np.zeros(len(unique_songs))\n",
    "    listening_history2 = np.zeros(len(unique_songs))\n",
    "    for index, song_id in enumerate(unique_songs):\n",
    "        if song_id in songs_user1:\n",
    "            song_index = songs_user1.index(song_id)\n",
    "            listening_history1[index] = count_user1[song_index]\n",
    "        if song_id in songs_user2:\n",
    "            song_index = songs_user2.index(song_id)\n",
    "            listening_history2[index] = count_user2[song_index]\n",
    "            \n",
    "    # normalize before simiilarity if the boolean is passed\n",
    "    if normalize == True:\n",
    "        # find means\n",
    "        mu1 = np.mean(count_user1)\n",
    "        mu2 = np.mean(count_user2)\n",
    "        # subtract means from all non-zero counts\n",
    "        for i in range (0, len(listening_history1)):\n",
    "            if listening_history1[i] != 0: listening_history1[i] -= mu1\n",
    "            if listening_history2[i] != 0: listening_history2[i] -= mu2\n",
    "                \n",
    "    # calculate the cosine similarity between the two listening histories\n",
    "    similarity = np.dot(listening_history1, listening_history2) / (np.linalg.norm(listening_history1, ord = 2) * np.linalg.norm(listening_history2, ord = 2))\n",
    "    return similarity"
   ]
  },
  {
   "cell_type": "code",
   "execution_count": 116,
   "id": "1b0ddf18-1fa7-41b7-b661-3948d141b627",
   "metadata": {},
   "outputs": [
    {
     "name": "stderr",
     "output_type": "stream",
     "text": [
      "<ipython-input-114-1ef08a94e32e>:33: RuntimeWarning: invalid value encountered in double_scalars\n",
      "  similarity = np.dot(listening_history1, listening_history2) / (np.linalg.norm(listening_history1, ord = 2) * np.linalg.norm(listening_history2, ord = 2))\n"
     ]
    },
    {
     "name": "stdout",
     "output_type": "stream",
     "text": [
      "0.03664789826341327\n",
      "USER 1\n",
      "------------------------------------------------------\n",
      "Música Para Una Boda by Nacho Cano listened to 2 time(s)\n",
      "Na Vi by Dino Merlin listened to 2 time(s)\n",
      "Modern world by Modern Lovers listened to 4 time(s)\n",
      "Hey Jealousy by Gin Blossoms listened to 1 time(s)\n",
      "Talk Me Out Of Tampa by Joe Nichols listened to 1 time(s)\n",
      "Behind The Sea [Live In Chicago] by Panic At The Disco listened to 2 time(s)\n",
      "Yellow by Coldplay listened to 1 time(s)\n",
      "Thnks fr th Mmrs by Fall Out Boy listened to 1 time(s)\n",
      "Feuer Frei by Rammstein listened to 1 time(s)\n",
      "In League With Satan by Krisiun listened to 1 time(s)\n",
      "Microdaze by Jonny L listened to 2 time(s)\n",
      "Sala De Recepção by Cartola listened to 2 time(s)\n",
      "Opium Of The People (Album Version) by Slipknot listened to 1 time(s)\n",
      "MOST SIMILAR USER\n",
      "------------------------------------------------------\n",
      "I Was Meant For the Stage by The Decemberists listened to 1 time(s)\n",
      "My Night With the Prostitute From Marseille by Beirut listened to 1 time(s)\n",
      "Sleep Alone (909s in DarkTimes Mix) by Bat For Lashes listened to 1 time(s)\n",
      "Pull A U by The Kills listened to 1 time(s)\n",
      "Shanty for the Arethusa by The Decemberists listened to 1 time(s)\n",
      "Billy Liar by The Decemberists listened to 1 time(s)\n",
      "The Chimbley Sweep by The Decemberists listened to 1 time(s)\n",
      "As I Rise by The Decemberists listened to 1 time(s)\n",
      "The Bachelor and the Bride by The Decemberists listened to 1 time(s)\n",
      "Hummer by Foals listened to 1 time(s)\n",
      "Red Right Ankle by The Decemberists listened to 1 time(s)\n",
      "Los Angeles_ I'm Yours by The Decemberists listened to 1 time(s)\n",
      "Song for Myla Goldberg by The Decemberists listened to 1 time(s)\n",
      "The Gymnast_ High Above the Ground by The Decemberists listened to 1 time(s)\n",
      "The Soldiering Life by The Decemberists listened to 1 time(s)\n"
     ]
    }
   ],
   "source": [
    "# check highest similarity for user 1\n",
    "user1 = listening_history_100['c3b96e852a5a14ccf295daf9e2353888e0581e7d']\n",
    "similarities = []\n",
    "for i in listening_history_100:\n",
    "    user2 = listening_history_100[i]\n",
    "    if user1 != user2:\n",
    "        similarities.append(get_similarity(user1, user2, True))\n",
    "\n",
    "max_index = np.argmax(similarities) + 1\n",
    "similar_user = listening_history_100[list(listening_history_100)[max_index]]\n",
    "\n",
    "print(max(similarities))\n",
    "print(\"USER 1\")\n",
    "print(\"------------------------------------------------------\")\n",
    "print_listening_history(user1)\n",
    "print(\"MOST SIMILAR USER\")\n",
    "print(\"------------------------------------------------------\")\n",
    "print_listening_history(similar_user)"
   ]
  },
  {
   "cell_type": "code",
   "execution_count": null,
   "id": "d392d3b9-59af-474a-95ff-d7ec2f572549",
   "metadata": {},
   "outputs": [],
   "source": []
  }
 ],
 "metadata": {
  "kernelspec": {
   "display_name": "Python 3",
   "language": "python",
   "name": "python3"
  },
  "language_info": {
   "codemirror_mode": {
    "name": "ipython",
    "version": 3
   },
   "file_extension": ".py",
   "mimetype": "text/x-python",
   "name": "python",
   "nbconvert_exporter": "python",
   "pygments_lexer": "ipython3",
   "version": "3.8.8"
  }
 },
 "nbformat": 4,
 "nbformat_minor": 5
}
