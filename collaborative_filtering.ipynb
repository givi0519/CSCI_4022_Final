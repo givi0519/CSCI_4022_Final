{
 "cells": [
  {
   "cell_type": "code",
   "execution_count": 1,
   "id": "1692cfb9-b35e-4107-a51a-c5607c608f05",
   "metadata": {},
   "outputs": [],
   "source": [
    "import numpy as np\n",
    "import pandas as pd\n",
    "\n",
    "from numpy import linalg\n",
    "\n",
    "import seaborn as sns\n",
    "import matplotlib.pyplot as plt"
   ]
  },
  {
   "cell_type": "markdown",
   "id": "a7d5cf89-174b-486f-b690-853054f705b4",
   "metadata": {},
   "source": [
    "# Loading Data"
   ]
  },
  {
   "cell_type": "code",
   "execution_count": 2,
   "id": "a206b793-7ec4-415e-b5f5-82726a4355ed",
   "metadata": {},
   "outputs": [],
   "source": [
    "songs_df = pd.read_csv(\"data/song_data.csv\")\n",
    "users_df = pd.read_csv(\"data/10000.txt\", delim_whitespace=True)"
   ]
  },
  {
   "cell_type": "code",
   "execution_count": 3,
   "id": "cda09c47-bebc-4ad8-8bb7-7e15a652a9ce",
   "metadata": {},
   "outputs": [
    {
     "data": {
      "text/html": [
       "<div>\n",
       "<style scoped>\n",
       "    .dataframe tbody tr th:only-of-type {\n",
       "        vertical-align: middle;\n",
       "    }\n",
       "\n",
       "    .dataframe tbody tr th {\n",
       "        vertical-align: top;\n",
       "    }\n",
       "\n",
       "    .dataframe thead th {\n",
       "        text-align: right;\n",
       "    }\n",
       "</style>\n",
       "<table border=\"1\" class=\"dataframe\">\n",
       "  <thead>\n",
       "    <tr style=\"text-align: right;\">\n",
       "      <th></th>\n",
       "      <th>song_id</th>\n",
       "      <th>title</th>\n",
       "      <th>release</th>\n",
       "      <th>artist_name</th>\n",
       "      <th>year</th>\n",
       "    </tr>\n",
       "  </thead>\n",
       "  <tbody>\n",
       "    <tr>\n",
       "      <th>0</th>\n",
       "      <td>SOQMMHC12AB0180CB8</td>\n",
       "      <td>Silent Night</td>\n",
       "      <td>Monster Ballads X-Mas</td>\n",
       "      <td>Faster Pussy cat</td>\n",
       "      <td>2003</td>\n",
       "    </tr>\n",
       "    <tr>\n",
       "      <th>1</th>\n",
       "      <td>SOVFVAK12A8C1350D9</td>\n",
       "      <td>Tanssi vaan</td>\n",
       "      <td>Karkuteillä</td>\n",
       "      <td>Karkkiautomaatti</td>\n",
       "      <td>1995</td>\n",
       "    </tr>\n",
       "    <tr>\n",
       "      <th>2</th>\n",
       "      <td>SOGTUKN12AB017F4F1</td>\n",
       "      <td>No One Could Ever</td>\n",
       "      <td>Butter</td>\n",
       "      <td>Hudson Mohawke</td>\n",
       "      <td>2006</td>\n",
       "    </tr>\n",
       "    <tr>\n",
       "      <th>3</th>\n",
       "      <td>SOBNYVR12A8C13558C</td>\n",
       "      <td>Si Vos Querés</td>\n",
       "      <td>De Culo</td>\n",
       "      <td>Yerba Brava</td>\n",
       "      <td>2003</td>\n",
       "    </tr>\n",
       "    <tr>\n",
       "      <th>4</th>\n",
       "      <td>SOHSBXH12A8C13B0DF</td>\n",
       "      <td>Tangle Of Aspens</td>\n",
       "      <td>Rene Ablaze Presents Winter Sessions</td>\n",
       "      <td>Der Mystic</td>\n",
       "      <td>0</td>\n",
       "    </tr>\n",
       "  </tbody>\n",
       "</table>\n",
       "</div>"
      ],
      "text/plain": [
       "              song_id              title  \\\n",
       "0  SOQMMHC12AB0180CB8       Silent Night   \n",
       "1  SOVFVAK12A8C1350D9        Tanssi vaan   \n",
       "2  SOGTUKN12AB017F4F1  No One Could Ever   \n",
       "3  SOBNYVR12A8C13558C      Si Vos Querés   \n",
       "4  SOHSBXH12A8C13B0DF   Tangle Of Aspens   \n",
       "\n",
       "                                release       artist_name  year  \n",
       "0                 Monster Ballads X-Mas  Faster Pussy cat  2003  \n",
       "1                           Karkuteillä  Karkkiautomaatti  1995  \n",
       "2                                Butter    Hudson Mohawke  2006  \n",
       "3                               De Culo       Yerba Brava  2003  \n",
       "4  Rene Ablaze Presents Winter Sessions        Der Mystic     0  "
      ]
     },
     "execution_count": 3,
     "metadata": {},
     "output_type": "execute_result"
    }
   ],
   "source": [
    "songs_df.head()"
   ]
  },
  {
   "cell_type": "code",
   "execution_count": 4,
   "id": "a65bf06d-f515-4a5f-9b4e-08a38cbdccaf",
   "metadata": {},
   "outputs": [
    {
     "data": {
      "text/html": [
       "<div>\n",
       "<style scoped>\n",
       "    .dataframe tbody tr th:only-of-type {\n",
       "        vertical-align: middle;\n",
       "    }\n",
       "\n",
       "    .dataframe tbody tr th {\n",
       "        vertical-align: top;\n",
       "    }\n",
       "\n",
       "    .dataframe thead th {\n",
       "        text-align: right;\n",
       "    }\n",
       "</style>\n",
       "<table border=\"1\" class=\"dataframe\">\n",
       "  <thead>\n",
       "    <tr style=\"text-align: right;\">\n",
       "      <th></th>\n",
       "      <th>user_id</th>\n",
       "      <th>song_id</th>\n",
       "      <th>num_listens</th>\n",
       "    </tr>\n",
       "  </thead>\n",
       "  <tbody>\n",
       "    <tr>\n",
       "      <th>0</th>\n",
       "      <td>b80344d063b5ccb3212f76538f3d9e43d87dca9e</td>\n",
       "      <td>SOAKIMP12A8C130995</td>\n",
       "      <td>1</td>\n",
       "    </tr>\n",
       "    <tr>\n",
       "      <th>1</th>\n",
       "      <td>b80344d063b5ccb3212f76538f3d9e43d87dca9e</td>\n",
       "      <td>SOBBMDR12A8C13253B</td>\n",
       "      <td>2</td>\n",
       "    </tr>\n",
       "    <tr>\n",
       "      <th>2</th>\n",
       "      <td>b80344d063b5ccb3212f76538f3d9e43d87dca9e</td>\n",
       "      <td>SOBXHDL12A81C204C0</td>\n",
       "      <td>1</td>\n",
       "    </tr>\n",
       "    <tr>\n",
       "      <th>3</th>\n",
       "      <td>b80344d063b5ccb3212f76538f3d9e43d87dca9e</td>\n",
       "      <td>SOBYHAJ12A6701BF1D</td>\n",
       "      <td>1</td>\n",
       "    </tr>\n",
       "    <tr>\n",
       "      <th>4</th>\n",
       "      <td>b80344d063b5ccb3212f76538f3d9e43d87dca9e</td>\n",
       "      <td>SODACBL12A8C13C273</td>\n",
       "      <td>1</td>\n",
       "    </tr>\n",
       "  </tbody>\n",
       "</table>\n",
       "</div>"
      ],
      "text/plain": [
       "                                    user_id             song_id  num_listens\n",
       "0  b80344d063b5ccb3212f76538f3d9e43d87dca9e  SOAKIMP12A8C130995            1\n",
       "1  b80344d063b5ccb3212f76538f3d9e43d87dca9e  SOBBMDR12A8C13253B            2\n",
       "2  b80344d063b5ccb3212f76538f3d9e43d87dca9e  SOBXHDL12A81C204C0            1\n",
       "3  b80344d063b5ccb3212f76538f3d9e43d87dca9e  SOBYHAJ12A6701BF1D            1\n",
       "4  b80344d063b5ccb3212f76538f3d9e43d87dca9e  SODACBL12A8C13C273            1"
      ]
     },
     "execution_count": 4,
     "metadata": {},
     "output_type": "execute_result"
    }
   ],
   "source": [
    "users_df.head()"
   ]
  },
  {
   "cell_type": "markdown",
   "id": "8d9c4326-0d05-48f9-8b78-1cff1f9e01e2",
   "metadata": {},
   "source": [
    "# Exploratory Analysis"
   ]
  },
  {
   "cell_type": "code",
   "execution_count": 5,
   "id": "da95824d-64d7-41f1-b8cb-352c147f7a1c",
   "metadata": {},
   "outputs": [
    {
     "name": "stdout",
     "output_type": "stream",
     "text": [
      "76353 unique users\n",
      "10000 unique songs\n",
      "6090969 total song listens\n"
     ]
    }
   ],
   "source": [
    "user_id = list(users_df['user_id'])\n",
    "song_id = list(users_df['song_id'])\n",
    "unique_songs = list(set(song_id))\n",
    "num_listens = list(users_df['num_listens'])\n",
    "print(len(set(user_id)), \"unique users\")\n",
    "print(len(unique_songs), \"unique songs\")\n",
    "print(sum(num_listens), \"total song listens\")"
   ]
  },
  {
   "cell_type": "code",
   "execution_count": 6,
   "id": "260b8eeb-85d1-40ac-bb74-fc9052960fef",
   "metadata": {},
   "outputs": [
    {
     "data": {
      "text/html": [
       "<div>\n",
       "<style scoped>\n",
       "    .dataframe tbody tr th:only-of-type {\n",
       "        vertical-align: middle;\n",
       "    }\n",
       "\n",
       "    .dataframe tbody tr th {\n",
       "        vertical-align: top;\n",
       "    }\n",
       "\n",
       "    .dataframe thead th {\n",
       "        text-align: right;\n",
       "    }\n",
       "</style>\n",
       "<table border=\"1\" class=\"dataframe\">\n",
       "  <thead>\n",
       "    <tr style=\"text-align: right;\">\n",
       "      <th></th>\n",
       "      <th>song_id</th>\n",
       "      <th>num_listens</th>\n",
       "      <th>song_name</th>\n",
       "    </tr>\n",
       "  </thead>\n",
       "  <tbody>\n",
       "    <tr>\n",
       "      <th>0</th>\n",
       "      <td>SOBONKR12A58A7A7E0</td>\n",
       "      <td>54136</td>\n",
       "      <td>You're The One</td>\n",
       "    </tr>\n",
       "    <tr>\n",
       "      <th>1</th>\n",
       "      <td>SOAUWYT12A81C206F1</td>\n",
       "      <td>49253</td>\n",
       "      <td>Undo</td>\n",
       "    </tr>\n",
       "    <tr>\n",
       "      <th>2</th>\n",
       "      <td>SOSXLTC12AF72A7F54</td>\n",
       "      <td>41418</td>\n",
       "      <td>Revelry</td>\n",
       "    </tr>\n",
       "    <tr>\n",
       "      <th>3</th>\n",
       "      <td>SOEGIYH12A6D4FC0E3</td>\n",
       "      <td>31153</td>\n",
       "      <td>Horn Concerto No. 4 in E flat K495: II. Romanc...</td>\n",
       "    </tr>\n",
       "    <tr>\n",
       "      <th>4</th>\n",
       "      <td>SOFRQTD12A81C233C0</td>\n",
       "      <td>31036</td>\n",
       "      <td>Sehr kosmisch</td>\n",
       "    </tr>\n",
       "    <tr>\n",
       "      <th>5</th>\n",
       "      <td>SOAXGDH12A8C13F8A1</td>\n",
       "      <td>26663</td>\n",
       "      <td>Dog Days Are Over (Radio Edit)</td>\n",
       "    </tr>\n",
       "    <tr>\n",
       "      <th>6</th>\n",
       "      <td>SONYKOW12AB01849C9</td>\n",
       "      <td>22100</td>\n",
       "      <td>Secrets</td>\n",
       "    </tr>\n",
       "    <tr>\n",
       "      <th>7</th>\n",
       "      <td>SOPUCYA12A8C13A694</td>\n",
       "      <td>21019</td>\n",
       "      <td>Canada</td>\n",
       "    </tr>\n",
       "    <tr>\n",
       "      <th>8</th>\n",
       "      <td>SOUFTBI12AB0183F65</td>\n",
       "      <td>19645</td>\n",
       "      <td>Invalid</td>\n",
       "    </tr>\n",
       "    <tr>\n",
       "      <th>9</th>\n",
       "      <td>SOVDSJC12A58A7A271</td>\n",
       "      <td>18309</td>\n",
       "      <td>Ain't Misbehavin</td>\n",
       "    </tr>\n",
       "  </tbody>\n",
       "</table>\n",
       "</div>"
      ],
      "text/plain": [
       "              song_id  num_listens  \\\n",
       "0  SOBONKR12A58A7A7E0        54136   \n",
       "1  SOAUWYT12A81C206F1        49253   \n",
       "2  SOSXLTC12AF72A7F54        41418   \n",
       "3  SOEGIYH12A6D4FC0E3        31153   \n",
       "4  SOFRQTD12A81C233C0        31036   \n",
       "5  SOAXGDH12A8C13F8A1        26663   \n",
       "6  SONYKOW12AB01849C9        22100   \n",
       "7  SOPUCYA12A8C13A694        21019   \n",
       "8  SOUFTBI12AB0183F65        19645   \n",
       "9  SOVDSJC12A58A7A271        18309   \n",
       "\n",
       "                                           song_name  \n",
       "0                                     You're The One  \n",
       "1                                               Undo  \n",
       "2                                            Revelry  \n",
       "3  Horn Concerto No. 4 in E flat K495: II. Romanc...  \n",
       "4                                      Sehr kosmisch  \n",
       "5                     Dog Days Are Over (Radio Edit)  \n",
       "6                                            Secrets  \n",
       "7                                             Canada  \n",
       "8                                            Invalid  \n",
       "9                                   Ain't Misbehavin  "
      ]
     },
     "execution_count": 6,
     "metadata": {},
     "output_type": "execute_result"
    }
   ],
   "source": [
    "# check top 10 songs that are most listened to \n",
    "most_listened = users_df[['song_id', 'num_listens']].groupby('song_id').sum().sort_values('num_listens', ascending=False).head(10)\n",
    "top_songs = list(most_listened.index)\n",
    "listen_count = list(most_listened['num_listens'])\n",
    "top_ten=pd.DataFrame(top_songs,columns=[\"song_id\"])\n",
    "top_ten['num_listens']=listen_count\n",
    "song_names=[]\n",
    "for i in range(0,10):\n",
    "    song_name = songs_df.loc[songs_df['song_id'] == top_songs[i]]['title']\n",
    "    song_names.append(list(song_name)[0])\n",
    "#     print(list(song_name)[0], \"has been listened to\", listen_count[i], \"times\")\n",
    "    \n",
    "top_ten['song_name']=song_names\n",
    "top_ten.head(10)"
   ]
  },
  {
   "cell_type": "code",
   "execution_count": 7,
   "id": "9c0c520d",
   "metadata": {},
   "outputs": [
    {
     "data": {
      "image/png": "[encoded data removed]",
      "text/plain": [
       "<Figure size 432x288 with 1 Axes>"
      ]
     },
     "metadata": {
      "needs_background": "light"
     },
     "output_type": "display_data"
    }
   ],
   "source": [
    "labels=top_ten['song_name'].tolist()\n",
    "num_listened=top_ten['num_listens'].tolist()\n",
    "\n",
    "plt.figure()\n",
    "sns.barplot(x=num_listened,y=labels).set(title='10 Most Listened Songs')\n",
    "sns.despine(left=True,bottom=True)"
   ]
  },
  {
   "cell_type": "code",
   "execution_count": 8,
   "id": "76a2d777-5502-4664-9d0d-804558c4b12b",
   "metadata": {},
   "outputs": [
    {
     "name": "stdout",
     "output_type": "stream",
     "text": [
      "AVERAGE LISTEN COUNT 79.77380063651722\n",
      "4be305e02f4e72dad1b8ac78e630403543bab994 has 4426 song listens\n",
      "6d625c6557df84b60d90426c0116138b617b9449 has 3482 song listens\n",
      "d13609d62db6df876d3cc388225478618bb7b912 has 2686 song listens\n",
      "0b19fe0fad7ca85693846f7dad047c449784647e has 2679 song listens\n",
      "283882c3d18ff2ad0e17124002ec02b847d06e9a has 2306 song listens\n",
      "083a2a59603a605275107c00812a811526c2a0af has 2142 song listens\n",
      "6a944bfe30ae8d6b873139e8305ae131f1607d5f has 2062 song listens\n",
      "5ea608df0357ec4fda191cb9316fe8e6e65e3777 has 2032 song listens\n",
      "9c859962257112ad523f1d3c121d35191daa6d2b has 2032 song listens\n",
      "2231cb435771a1a621ec44e95cdd28b81fad3288 has 2019 song listens\n"
     ]
    }
   ],
   "source": [
    "# check top 10 users with most listens\n",
    "most_listened_users = users_df[['user_id', 'num_listens']].groupby('user_id').sum().sort_values('num_listens', ascending=False)\n",
    "top_users = list(most_listened_users.index)\n",
    "listen_count = list(most_listened_users['num_listens'])\n",
    "print(\"AVERAGE LISTEN COUNT\", np.mean(listen_count))\n",
    "for i in range(0,10):\n",
    "    print(top_users[i], \"has\", listen_count[i], \"song listens\")"
   ]
  },
  {
   "cell_type": "code",
   "execution_count": 9,
   "id": "a6d61be4-5c06-47ed-9d23-89ee754c8df8",
   "metadata": {},
   "outputs": [
    {
     "name": "stdout",
     "output_type": "stream",
     "text": [
      "A single user has listened to Starshine 2213 times\n"
     ]
    }
   ],
   "source": [
    "# check songs with most listens per individual user\n",
    "sorted_listens = np.sort(list(users_df['num_listens']))\n",
    "most_listened = sorted_listens[-1]\n",
    "most_listened_id = list(users_df.loc[users_df['num_listens'] == most_listened]['song_id'])[0]\n",
    "most_listened_name = list(songs_df.loc[songs_df['song_id'] == most_listened_id]['title'])[0]\n",
    "print(\"A single user has listened to\", most_listened_name, most_listened, \"times\")"
   ]
  },
  {
   "cell_type": "code",
   "execution_count": 10,
   "id": "e25fccc1-76ab-432f-a96c-f2567630ac0f",
   "metadata": {},
   "outputs": [],
   "source": [
    "# function to return song name and author from an input id\n",
    "def get_song(song_id):\n",
    "    row = songs_df.loc[songs_df['song_id'] == song_id]\n",
    "    row = str(list(row['title'] + \" by \" + row['artist_name'])[0])\n",
    "    return row"
   ]
  },
  {
   "cell_type": "markdown",
   "id": "4f93164a-516f-42bc-bc34-d8a3d3968207",
   "metadata": {},
   "source": [
    "# Collaborative Filtering"
   ]
  },
  {
   "cell_type": "code",
   "execution_count": 11,
   "id": "c461c072-3b64-4243-93d7-310e05bf13e8",
   "metadata": {},
   "outputs": [],
   "source": [
    "# function to return a listening history dictionary based on the number of users passed into it - takes ~2hrs for full dataset so will be working with partitions\n",
    "def get_listening_history(num_users):\n",
    "    listening_history = {}\n",
    "    unique_users = list(set(user_id))\n",
    "    for i in range(0, num_users):\n",
    "        user = unique_users[i]\n",
    "        # get listening history for a single user\n",
    "        temp_df = users_df[users_df['user_id'] == user]\n",
    "        # zip lists into a tuple and add to dictionary\n",
    "        listening_history[user] = list(zip(list(temp_df['song_id']), list(temp_df['num_listens'])))\n",
    "    return listening_history\n",
    "\n",
    "# function to print a listening history given the list of tuples\n",
    "def print_listening_history(user):\n",
    "    user = list(zip(*user))\n",
    "    songs = user[0]\n",
    "    count = user[1]\n",
    "    for i in range (0, len(songs)):\n",
    "        print(get_song(songs[i]), \"listened to\", count[i], \"time(s)\")"
   ]
  },
  {
   "cell_type": "code",
   "execution_count": 12,
   "id": "02e767a6-0972-41c8-973c-0751dc6cabb6",
   "metadata": {},
   "outputs": [],
   "source": [
    "# listening_history_10 = get_listening_history(10)\n",
    "listening_history_100 = get_listening_history(100)\n",
    "# listening_history_1000 = get_listening_history(1000)\n",
    "# listening_history_10000 = get_listening_history(10000)"
   ]
  },
  {
   "cell_type": "code",
   "execution_count": 13,
   "id": "b4d338e6-5b58-422a-b693-5801799bd4f3",
   "metadata": {},
   "outputs": [],
   "source": [
    "# function that accurately formats the data from two users and returns a similarity score - user1, user2 passed in as a list of tuples (song_id, listen_count)\n",
    "def get_similarity(user1, user2, normalize):\n",
    "    # convert user1, user2 lists\n",
    "    user1 = list(zip(*user1))\n",
    "    songs_user1 = user1[0]\n",
    "    count_user1 = user1[1]\n",
    "    user2 = list(zip(*user2))\n",
    "    songs_user2 = user2[0]\n",
    "    count_user2 = user2[1]\n",
    "\n",
    "    # get unique songs and convert each listening history to a list of integers - 0 if they haven't listened to the song\n",
    "    listening_history1 = np.zeros(len(unique_songs))\n",
    "    listening_history2 = np.zeros(len(unique_songs))\n",
    "    for index, song_id in enumerate(unique_songs):\n",
    "        if song_id in songs_user1:\n",
    "            song_index = songs_user1.index(song_id)\n",
    "            listening_history1[index] = count_user1[song_index]\n",
    "        if song_id in songs_user2:\n",
    "            song_index = songs_user2.index(song_id)\n",
    "            listening_history2[index] = count_user2[song_index]\n",
    "            \n",
    "    # normalize before simiilarity if the boolean is passed\n",
    "    if normalize == True:\n",
    "        # find means\n",
    "        mu1 = np.mean(count_user1)\n",
    "        mu2 = np.mean(count_user2)\n",
    "        # subtract means from all non-zero counts\n",
    "        for i in range (0, len(listening_history1)):\n",
    "            if listening_history1[i] != 0: listening_history1[i] -= mu1\n",
    "            if listening_history2[i] != 0: listening_history2[i] -= mu2\n",
    "                \n",
    "    # calculate the cosine similarity between the two listening histories\n",
    "    if (np.linalg.norm(listening_history1, ord = 2) == 0 or np.linalg.norm(listening_history2, ord = 2) == 0):\n",
    "        return 0\n",
    "    else:\n",
    "        similarity = np.dot(listening_history1, listening_history2) / (np.linalg.norm(listening_history1, ord = 2) * np.linalg.norm(listening_history2, ord = 2))\n",
    "        return similarity"
   ]
  },
  {
   "cell_type": "code",
   "execution_count": 14,
   "id": "1b0ddf18-1fa7-41b7-b661-3948d141b627",
   "metadata": {},
   "outputs": [
    {
     "name": "stdout",
     "output_type": "stream",
     "text": [
      "0.03166237934306518\n",
      "USER 1\n",
      "------------------------------------------------------\n",
      "You And Me Jesus by Jake Hess listened to 1 time(s)\n",
      "Sorry (Album Version) by Buckcherry listened to 2 time(s)\n",
      "Gives You Hell by The All-American Rejects listened to 1 time(s)\n",
      "Riot Of Violence by Kreator listened to 8 time(s)\n",
      "Crumpshit by Philippe Rochard listened to 3 time(s)\n",
      "The Real Slim Shady by Eminem listened to 1 time(s)\n",
      "All Hands Against His Own by The Black Keys listened to 3 time(s)\n",
      "Hailie's Song by Eminem listened to 1 time(s)\n",
      "Almaz by Randy Crawford listened to 2 time(s)\n",
      "Breathe (2 AM) by Anna Nalick listened to 1 time(s)\n",
      "MOST SIMILAR USER\n",
      "------------------------------------------------------\n",
      "Halo by Beyoncé listened to 2 time(s)\n",
      "Hips Don't Lie (featuring Wyclef Jean) by Shakira Featuring Wyclef Jean listened to 1 time(s)\n",
      "Sehr kosmisch by Harmonia listened to 3 time(s)\n",
      "Gives You Hell by The All-American Rejects listened to 2 time(s)\n",
      "These Four Walls by Miley Cyrus listened to 1 time(s)\n",
      "See You Again by Miley Cyrus listened to 1 time(s)\n",
      "Live And Let Die by Guns N' Roses listened to 2 time(s)\n",
      "Pursuit Of Happiness (nightmare) by Kid Cudi / MGMT / Ratatat listened to 2 time(s)\n",
      "The Driveway by Miley Cyrus listened to 2 time(s)\n",
      "Take A Bow by Rihanna listened to 1 time(s)\n",
      "Drop The World by Lil Wayne / Eminem listened to 3 time(s)\n"
     ]
    }
   ],
   "source": [
    "# check highest similarity for user 1\n",
    "user_id1 = list(listening_history_100.keys())[17]\n",
    "user1 = listening_history_100[user_id1]\n",
    "similarities = []\n",
    "for i in listening_history_100:\n",
    "    user2 = listening_history_100[i]\n",
    "    if user1 != user2:\n",
    "        similarities.append(get_similarity(user1, user2, False))\n",
    "    else:\n",
    "        similarities.append(0)\n",
    "max_index = np.argmax(similarities)\n",
    "similar_user = listening_history_100[list(listening_history_100)[max_index]]\n",
    "\n",
    "print(max(similarities))\n",
    "print(\"USER 1\")\n",
    "print(\"------------------------------------------------------\")\n",
    "print_listening_history(user1)\n",
    "print(\"MOST SIMILAR USER\")\n",
    "print(\"------------------------------------------------------\")\n",
    "print_listening_history(similar_user)"
   ]
  },
  {
   "cell_type": "code",
   "execution_count": 15,
   "id": "1033dd7d-0bbe-4b75-947b-5d43ae6ef6f5",
   "metadata": {},
   "outputs": [],
   "source": [
    "# pass a user_id and return the user_id of the most similar user \n",
    "def find_most_similar(user_id, listening_history):\n",
    "    user = listening_history[user_id]\n",
    "    similarities = []\n",
    "    for i in listening_history:\n",
    "        cur_user = listening_history[i]\n",
    "        if user != cur_user:\n",
    "            similarities.append(get_similarity(user, cur_user, False))\n",
    "        else:\n",
    "            similarities.append(0)\n",
    "    max_index = np.argmax(similarities)\n",
    "    similar_user = list(listening_history)[max_index]\n",
    "    return similar_user\n",
    "\n",
    "# pass in both users (user_id) listening histories and recommend the most listened songs that haven't been listened to by user1\n",
    "def user_user_recommendation(user1, user2, listening_history):\n",
    "    # extract songs and listen counts\n",
    "    user1 = listening_history[user1]\n",
    "    user2 = listening_history[user2]\n",
    "    user1 = list(zip(*user1))\n",
    "    user2 = list(zip(*user2))\n",
    "    songs1 = user1[0]\n",
    "    songs2 = user2[0]\n",
    "    num_listens1 = user1[1]\n",
    "    num_listens2 = user2[1]\n",
    "    \n",
    "    # loop through listening history of user 2 and find songs user 1 hasn't listened to\n",
    "    recommend_dict = {}\n",
    "    for index, song in enumerate(songs2):\n",
    "        if song not in songs1: recommend_dict[song] = num_listens2[index]\n",
    "            \n",
    "    # sort by value and return as list of songs\n",
    "    recommend_dict = dict(sorted(recommend_dict.items(), key=lambda item: item[1], reverse = True))\n",
    "    return list(recommend_dict.keys())"
   ]
  },
  {
   "cell_type": "code",
   "execution_count": 16,
   "id": "2cd69611-70cc-40ba-ad39-7972fc6e932a",
   "metadata": {},
   "outputs": [],
   "source": [
    "# collaborative filter function to put it all together and return k recommendations based of most similar user\n",
    "def collaborative_filter(user_id, listening_history, k):\n",
    "    # find most similar user\n",
    "    similar_user_id = find_most_similar(user_id, listening_history)\n",
    "    \n",
    "    # use similar user to get recommendation dictionary\n",
    "    recommendations = user_user_recommendation(user_id, similar_user_id, listening_history)\n",
    "    \n",
    "    # provide info on the user \n",
    "    print(\"Listening history for user:\", user_id)\n",
    "    print(\"------------------------------------\")\n",
    "    print_listening_history(listening_history[user_id])\n",
    "    print(\"------------------------------------\")\n",
    "    # print top k recommendations\n",
    "    if k > len(recommendations):\n",
    "        k = len(recommendations)\n",
    "        print(\"Value for k is too large. Printing\", k, \"recommendations instead\")\n",
    "    print(\"Recommendations for user:\", user_id)\n",
    "    print(\"------------------------------------\")\n",
    "    for i in range(0,k):\n",
    "        song_name = get_song(recommendations[i])\n",
    "        print(i + 1, \":\", song_name)\n",
    "    print(\"------------------------------------\")"
   ]
  },
  {
   "cell_type": "code",
   "execution_count": 17,
   "id": "fd788c1d-421e-4ffc-9e56-e19feaba4249",
   "metadata": {},
   "outputs": [
    {
     "name": "stdout",
     "output_type": "stream",
     "text": [
      "Listening history for user: 36e13c9499f6fdafd251baeeeca39a429f12a34e\n",
      "------------------------------------\n",
      "You And Me Jesus by Jake Hess listened to 1 time(s)\n",
      "Sorry (Album Version) by Buckcherry listened to 2 time(s)\n",
      "Gives You Hell by The All-American Rejects listened to 1 time(s)\n",
      "Riot Of Violence by Kreator listened to 8 time(s)\n",
      "Crumpshit by Philippe Rochard listened to 3 time(s)\n",
      "The Real Slim Shady by Eminem listened to 1 time(s)\n",
      "All Hands Against His Own by The Black Keys listened to 3 time(s)\n",
      "Hailie's Song by Eminem listened to 1 time(s)\n",
      "Almaz by Randy Crawford listened to 2 time(s)\n",
      "Breathe (2 AM) by Anna Nalick listened to 1 time(s)\n",
      "------------------------------------\n",
      "Recommendations for user: 36e13c9499f6fdafd251baeeeca39a429f12a34e\n",
      "------------------------------------\n",
      "1 : Sehr kosmisch by Harmonia\n",
      "2 : Drop The World by Lil Wayne / Eminem\n",
      "3 : Halo by Beyoncé\n",
      "4 : Live And Let Die by Guns N' Roses\n",
      "5 : Pursuit Of Happiness (nightmare) by Kid Cudi / MGMT / Ratatat\n",
      "------------------------------------\n"
     ]
    }
   ],
   "source": [
    "collaborative_filter(user_id1, listening_history_100, 5)"
   ]
  },
  {
   "cell_type": "code",
   "execution_count": null,
   "id": "8d725ac5-90fe-413b-a2b1-5218b95c8c1f",
   "metadata": {},
   "outputs": [],
   "source": []
  }
 ],
 "metadata": {
  "kernelspec": {
   "display_name": "Python 3 (ipykernel)",
   "language": "python",
   "name": "python3"
  },
  "language_info": {
   "codemirror_mode": {
    "name": "ipython",
    "version": 3
   },
   "file_extension": ".py",
   "mimetype": "text/x-python",
   "name": "python",
   "nbconvert_exporter": "python",
   "pygments_lexer": "ipython3",
   "version": "3.10.4"
  }
 },
 "nbformat": 4,
 "nbformat_minor": 5
}
